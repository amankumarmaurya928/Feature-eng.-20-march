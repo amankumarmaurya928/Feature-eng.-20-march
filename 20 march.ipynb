{
 "cells": [
  {
   "cell_type": "code",
   "execution_count": 1,
   "metadata": {},
   "outputs": [
    {
     "data": {
      "text/plain": [
       "'Encoding is the process of converting the data or a given sequence of characters, symbols, alphabets etc., into a\\n   specified format, for the secured transmission of data. Decoding is the reverse process of encoding which is to\\n   extract the information from the converted format.\\n\\n   Encoding data is typically used to ensure the integrity and usability of data and is commonly used when data cannot \\n   be transferred in its current format between systems or applications. Encoding is not used to protect or secure data \\n   because it is easy to reverse.\\n\\n   Machine learning models can only work with numerical values. For this reason, it is necessary to transform the\\n   categorical values of the relevant features into numerical ones. This process is called feature encoding.\\n   '"
      ]
     },
     "execution_count": 1,
     "metadata": {},
     "output_type": "execute_result"
    }
   ],
   "source": [
    "# Q1\n",
    "'''Encoding is the process of converting the data or a given sequence of characters, symbols, alphabets etc., into a\n",
    "   specified format, for the secured transmission of data. Decoding is the reverse process of encoding which is to\n",
    "   extract the information from the converted format.\n",
    "\n",
    "   Encoding data is typically used to ensure the integrity and usability of data and is commonly used when data cannot \n",
    "   be transferred in its current format between systems or applications. Encoding is not used to protect or secure data \n",
    "   because it is easy to reverse.\n",
    "\n",
    "   Machine learning models can only work with numerical values. For this reason, it is necessary to transform the\n",
    "   categorical values of the relevant features into numerical ones. This process is called feature encoding.\n",
    "   '''"
   ]
  },
  {
   "cell_type": "code",
   "execution_count": 2,
   "metadata": {},
   "outputs": [
    {
     "data": {
      "text/plain": [
       "\"Nominal Encoding:\\n   When we have a feature where variables are just names and there is no order or rank to this variable's feature.\\n   Example: City of person lives in, Gender of person, Marital Status, etc.\\n   In the example, We do not have any order or rank, or sequence.\\n   \""
      ]
     },
     "execution_count": 2,
     "metadata": {},
     "output_type": "execute_result"
    }
   ],
   "source": [
    "# Q2\n",
    "'''Nominal Encoding:\n",
    "   When we have a feature where variables are just names and there is no order or rank to this variable's feature.\n",
    "   Example: City of person lives in, Gender of person, Marital Status, etc.\n",
    "   In the example, We do not have any order or rank, or sequence.\n",
    "   '''"
   ]
  },
  {
   "cell_type": "code",
   "execution_count": 3,
   "metadata": {},
   "outputs": [
    {
     "data": {
      "text/html": [
       "<div>\n",
       "<style scoped>\n",
       "    .dataframe tbody tr th:only-of-type {\n",
       "        vertical-align: middle;\n",
       "    }\n",
       "\n",
       "    .dataframe tbody tr th {\n",
       "        vertical-align: top;\n",
       "    }\n",
       "\n",
       "    .dataframe thead th {\n",
       "        text-align: right;\n",
       "    }\n",
       "</style>\n",
       "<table border=\"1\" class=\"dataframe\">\n",
       "  <thead>\n",
       "    <tr style=\"text-align: right;\">\n",
       "      <th></th>\n",
       "      <th>color_blue</th>\n",
       "      <th>color_green</th>\n",
       "      <th>color_red</th>\n",
       "    </tr>\n",
       "  </thead>\n",
       "  <tbody>\n",
       "    <tr>\n",
       "      <th>0</th>\n",
       "      <td>0.0</td>\n",
       "      <td>0.0</td>\n",
       "      <td>1.0</td>\n",
       "    </tr>\n",
       "    <tr>\n",
       "      <th>1</th>\n",
       "      <td>0.0</td>\n",
       "      <td>1.0</td>\n",
       "      <td>0.0</td>\n",
       "    </tr>\n",
       "    <tr>\n",
       "      <th>2</th>\n",
       "      <td>1.0</td>\n",
       "      <td>0.0</td>\n",
       "      <td>0.0</td>\n",
       "    </tr>\n",
       "    <tr>\n",
       "      <th>3</th>\n",
       "      <td>0.0</td>\n",
       "      <td>1.0</td>\n",
       "      <td>0.0</td>\n",
       "    </tr>\n",
       "    <tr>\n",
       "      <th>4</th>\n",
       "      <td>1.0</td>\n",
       "      <td>0.0</td>\n",
       "      <td>0.0</td>\n",
       "    </tr>\n",
       "    <tr>\n",
       "      <th>5</th>\n",
       "      <td>0.0</td>\n",
       "      <td>0.0</td>\n",
       "      <td>1.0</td>\n",
       "    </tr>\n",
       "  </tbody>\n",
       "</table>\n",
       "</div>"
      ],
      "text/plain": [
       "   color_blue  color_green  color_red\n",
       "0         0.0          0.0        1.0\n",
       "1         0.0          1.0        0.0\n",
       "2         1.0          0.0        0.0\n",
       "3         0.0          1.0        0.0\n",
       "4         1.0          0.0        0.0\n",
       "5         0.0          0.0        1.0"
      ]
     },
     "execution_count": 3,
     "metadata": {},
     "output_type": "execute_result"
    }
   ],
   "source": [
    "# Q3\n",
    "'''One hot encoding, also known as nominal encoding, is a technique used to represent categorical data as numerical data,\n",
    "   which is more suitable for machine learning algorithms. In this technique, each category is represented as a binary \n",
    "   vector where each bit corresponds to a unique category. \n",
    "   example: if we have a categorical variable \"color\" with three possible values (red, green, blue),\n",
    "   we can represent it using one hot encoding as follows:\n",
    "   Red: [1, 0, 0]\n",
    "   Green: [0, 1, 0]\n",
    "   Blue: [0, 0, 1]\n",
    "'''\n",
    "import pandas as pd\n",
    "from sklearn.preprocessing import OneHotEncoder\n",
    "df = pd.DataFrame({'color':['red','green','blue','green','blue','red']})\n",
    "encoder=OneHotEncoder()\n",
    "encoded=encoder.fit_transform(df[['color']]).toarray()\n",
    "encoder_df=pd.DataFrame(encoded,columns=encoder.get_feature_names_out())\n",
    "encoder_df"
   ]
  },
  {
   "cell_type": "code",
   "execution_count": 4,
   "metadata": {},
   "outputs": [
    {
     "data": {
      "text/plain": [
       "'The three popular techniques of converting Categorical values to Numeric values are done in two different methods. \\n   Label Encoding. \\n   One Hot Encoding.\\n   Binary Encoding.\\n   \\n   i use nominal or one hot encoding for this problem because i used it before for the same type of problem.\\n   '"
      ]
     },
     "execution_count": 4,
     "metadata": {},
     "output_type": "execute_result"
    }
   ],
   "source": [
    "# Q4\n",
    "'''The three popular techniques of converting Categorical values to Numeric values are done in two different methods. \n",
    "   Label Encoding. \n",
    "   One Hot Encoding.\n",
    "   Binary Encoding.\n",
    "   \n",
    "   i use nominal or one hot encoding for this problem because i used it before for the same type of problem.\n",
    "   '''"
   ]
  },
  {
   "cell_type": "code",
   "execution_count": 5,
   "metadata": {},
   "outputs": [
    {
     "data": {
      "text/plain": [
       "'There are two columns contain categorical values but number of new columns which may added its depended to the number\\nof sub-categore present in it.\\n example: if we have a categorical variable \"color\" with three possible values (red, green, blue),\\n we can represent it using one hot encoding as follows:\\n\\n Red: [1, 0, 0]\\n Green: [0, 1, 0]\\n Blue: [0, 0, 1]\\n when it rearrange with the help of OHC then there is three columns added instand of one. As shown below:\\n \\nindex       color_blue\\tcolor_green\\t color_red\\n0\\t        0.0       \\t0.0        \\t 1.0\\n1\\t        1.0     \\t0.0      \\t 0.0\\n2\\t        0.0\\t        1.0     \\t 0.0\\n3\\t        0.0\\t        1.0     \\t 0.0\\n4\\t        0.0     \\t0.0     \\t 1.0\\n5\\t        1.0\\t        0.0\\t         0.0\\n'"
      ]
     },
     "execution_count": 5,
     "metadata": {},
     "output_type": "execute_result"
    }
   ],
   "source": [
    "# Q5\n",
    "'''There are two columns contain categorical values but number of new columns which may added its depended to the number\n",
    "of sub-categore present in it.\n",
    " example: if we have a categorical variable \"color\" with three possible values (red, green, blue),\n",
    " we can represent it using one hot encoding as follows:\n",
    "\n",
    " Red: [1, 0, 0]\n",
    " Green: [0, 1, 0]\n",
    " Blue: [0, 0, 1]\n",
    " when it rearrange with the help of OHC then there is three columns added instand of one. As shown below:\n",
    " \n",
    "index       color_blue\tcolor_green\t color_red\n",
    "0\t        0.0       \t0.0        \t 1.0\n",
    "1\t        1.0     \t0.0      \t 0.0\n",
    "2\t        0.0\t        1.0     \t 0.0\n",
    "3\t        0.0\t        1.0     \t 0.0\n",
    "4\t        0.0     \t0.0     \t 1.0\n",
    "5\t        1.0\t        0.0\t         0.0\n",
    "'''"
   ]
  },
  {
   "cell_type": "code",
   "execution_count": 6,
   "metadata": {},
   "outputs": [
    {
     "data": {
      "text/plain": [
       "'In Ordinal data, while encoding, one should retain the information regarding the order in which the category is\\n   provided. Like in the above example the highest degree a person possesses, gives vital information about his \\n   qualification. The degree is an important feature to decide whether a person is suitable for a post or not.\\n\\n   While encoding Nominal data, we have to consider the presence or absence of a feature. In such a case, no notion of\\n   order is present.\\n   '"
      ]
     },
     "execution_count": 6,
     "metadata": {},
     "output_type": "execute_result"
    }
   ],
   "source": [
    "# Q6\n",
    "'''In Ordinal data, while encoding, one should retain the information regarding the order in which the category is\n",
    "   provided. Like in the above example the highest degree a person possesses, gives vital information about his \n",
    "   qualification. The degree is an important feature to decide whether a person is suitable for a post or not.\n",
    "\n",
    "   While encoding Nominal data, we have to consider the presence or absence of a feature. In such a case, no notion of\n",
    "   order is present.\n",
    "   '''"
   ]
  },
  {
   "cell_type": "code",
   "execution_count": 9,
   "metadata": {},
   "outputs": [
    {
     "data": {
      "text/html": [
       "<div>\n",
       "<style scoped>\n",
       "    .dataframe tbody tr th:only-of-type {\n",
       "        vertical-align: middle;\n",
       "    }\n",
       "\n",
       "    .dataframe tbody tr th {\n",
       "        vertical-align: top;\n",
       "    }\n",
       "\n",
       "    .dataframe thead th {\n",
       "        text-align: right;\n",
       "    }\n",
       "</style>\n",
       "<table border=\"1\" class=\"dataframe\">\n",
       "  <thead>\n",
       "    <tr style=\"text-align: right;\">\n",
       "      <th></th>\n",
       "      <th>name</th>\n",
       "      <th>monthly_charge</th>\n",
       "      <th>age</th>\n",
       "      <th>gender</th>\n",
       "      <th>contract_type</th>\n",
       "    </tr>\n",
       "  </thead>\n",
       "  <tbody>\n",
       "    <tr>\n",
       "      <th>0</th>\n",
       "      <td>rahul</td>\n",
       "      <td>10</td>\n",
       "      <td>10</td>\n",
       "      <td>male</td>\n",
       "      <td>weekly</td>\n",
       "    </tr>\n",
       "    <tr>\n",
       "      <th>1</th>\n",
       "      <td>ashok</td>\n",
       "      <td>20</td>\n",
       "      <td>15</td>\n",
       "      <td>male</td>\n",
       "      <td>monthly</td>\n",
       "    </tr>\n",
       "    <tr>\n",
       "      <th>2</th>\n",
       "      <td>ankit</td>\n",
       "      <td>30</td>\n",
       "      <td>25</td>\n",
       "      <td>male</td>\n",
       "      <td>half_yearly</td>\n",
       "    </tr>\n",
       "    <tr>\n",
       "      <th>3</th>\n",
       "      <td>rahul</td>\n",
       "      <td>60</td>\n",
       "      <td>23</td>\n",
       "      <td>male</td>\n",
       "      <td>weekly</td>\n",
       "    </tr>\n",
       "    <tr>\n",
       "      <th>4</th>\n",
       "      <td>ashok</td>\n",
       "      <td>70</td>\n",
       "      <td>63</td>\n",
       "      <td>male</td>\n",
       "      <td>yearly</td>\n",
       "    </tr>\n",
       "    <tr>\n",
       "      <th>5</th>\n",
       "      <td>ankit</td>\n",
       "      <td>80</td>\n",
       "      <td>45</td>\n",
       "      <td>male</td>\n",
       "      <td>yearly</td>\n",
       "    </tr>\n",
       "  </tbody>\n",
       "</table>\n",
       "</div>"
      ],
      "text/plain": [
       "    name  monthly_charge  age gender contract_type\n",
       "0  rahul              10   10   male        weekly\n",
       "1  ashok              20   15   male       monthly\n",
       "2  ankit              30   25   male   half_yearly\n",
       "3  rahul              60   23   male        weekly\n",
       "4  ashok              70   63   male        yearly\n",
       "5  ankit              80   45   male        yearly"
      ]
     },
     "execution_count": 9,
     "metadata": {},
     "output_type": "execute_result"
    }
   ],
   "source": [
    "# Q7\n",
    "'''Target encoding is the method of converting a categorical value into the mean of the target variable. This type of\n",
    "   encoding is a type of bayesian encoding method where bayesian encoders use target variables to encode the categorical\n",
    "   value.\n",
    "   Example:'''\n",
    "import pandas as pd\n",
    "df=pd.DataFrame({'name':[\n",
    "'rahul','ashok','ankit','rahul','ashok','ankit'\n",
    "],'monthly_charge' : [10,20,30,60,70,80,], 'age':[10,15,25,23,63,45],'gender':['male','male','male','male','male','male']\n",
    "                 ,'contract_type':['weekly','monthly','half_yearly','weekly','yearly','yearly']})\n",
    "df"
   ]
  },
  {
   "cell_type": "code",
   "execution_count": null,
   "metadata": {},
   "outputs": [],
   "source": []
  }
 ],
 "metadata": {
  "kernelspec": {
   "display_name": "Python 3 (ipykernel)",
   "language": "python",
   "name": "python3"
  },
  "language_info": {
   "codemirror_mode": {
    "name": "ipython",
    "version": 3
   },
   "file_extension": ".py",
   "mimetype": "text/x-python",
   "name": "python",
   "nbconvert_exporter": "python",
   "pygments_lexer": "ipython3",
   "version": "3.10.8"
  }
 },
 "nbformat": 4,
 "nbformat_minor": 4
}
